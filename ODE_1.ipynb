{
 "cells": [
  {
   "cell_type": "markdown",
   "id": "d0fc7184",
   "metadata": {},
   "source": [
    "## LIbrería"
   ]
  },
  {
   "cell_type": "code",
   "execution_count": 9,
   "id": "7eb7111a",
   "metadata": {},
   "outputs": [],
   "source": [
    "# Ecuaciuones diferenciales \n",
    "\n",
    "import matplotlib.pyplot as plt  #Graficos\n",
    "import numpy as np  # módulo para manejar comandos array\n",
    "import sympy    \n",
    "from scipy import integrate #Paquete de integración\n",
    "\n"
   ]
  },
  {
   "cell_type": "code",
   "execution_count": 10,
   "id": "2cf6e7a1",
   "metadata": {},
   "outputs": [],
   "source": [
    "#Escribe la salida del programa en formato de latex\n",
    "sympy.init_printing(use_latex='mathjax')\n"
   ]
  },
  {
   "cell_type": "markdown",
   "id": "12f64274",
   "metadata": {},
   "source": [
    "## Define simbólicamente la ODE"
   ]
  },
  {
   "cell_type": "code",
   "execution_count": 15,
   "id": "12a0c142",
   "metadata": {},
   "outputs": [
    {
     "data": {
      "text/latex": [
       "$\\displaystyle \\frac{d}{d x} y{\\left(x \\right)} = x - 2 y{\\left(x \\right)}$"
      ],
      "text/plain": [
       "d                    \n",
       "──(y(x)) = x - 2⋅y(x)\n",
       "dx                   "
      ]
     },
     "execution_count": 15,
     "metadata": {},
     "output_type": "execute_result"
    }
   ],
   "source": [
    "#### Incógnitas de la ecuación diferencial ######\n",
    "\n",
    "x = sympy.Symbol('x')   #variable independiente\n",
    "y = sympy.Function('y') #Variable Dependiente\n",
    "\n",
    "###########Escrituar de la ODE ################\n",
    "\n",
    "f = -2 * (y(x)) + x\n",
    "\n",
    "sympy.Eq(y(x).diff(x), f)"
   ]
  },
  {
   "cell_type": "markdown",
   "id": "73bfdd15",
   "metadata": {},
   "source": [
    "## Resolución de la ODE"
   ]
  },
  {
   "cell_type": "code",
   "execution_count": 16,
   "id": "33c7e194",
   "metadata": {},
   "outputs": [
    {
     "data": {
      "text/latex": [
       "$\\displaystyle y{\\left(x \\right)} = C_{1} e^{- 2 x} + \\frac{x}{2} - \\frac{1}{4}$"
      ],
      "text/plain": [
       "           -2⋅x   x   1\n",
       "y(x) = C₁⋅ℯ     + ─ - ─\n",
       "                  2   4"
      ]
     },
     "execution_count": 16,
     "metadata": {},
     "output_type": "execute_result"
    }
   ],
   "source": [
    "sympy.dsolve(y(x).diff(x) - f)"
   ]
  },
  {
   "cell_type": "markdown",
   "id": "b8e140c0",
   "metadata": {},
   "source": [
    "## Solución"
   ]
  },
  {
   "cell_type": "markdown",
   "id": "39e8f754",
   "metadata": {},
   "source": [
    "\\begin{eqnarray}\n",
    "y' + 2 \\cdot y &=&  x \\\\\n",
    "y'  \\cdot e^{2x} + 2 e^{2x} \\cdot y &=& x \\cdot e^{2x} \\\\\n",
    "\\dfrac{d}{dx} \\bigg(  y \\cdot e^{2x} \\bigg) &=& x \\cdot e^{2x} \\\\\n",
    "\\int \\dfrac{d}{dx} \\bigg(  y \\cdot e^{2x} \\bigg) dx &=& \\int x \\cdot e^{2x} dx \\\\\n",
    "y \\cdot e^{2x} &=& \\dfrac{xe^{2x}}{2} - \\dfrac{e^{2x}}{4} + c \\\\\n",
    "y &=& \\dfrac{x}{2} -  \\dfrac{1}{4} + \\dfrac{C_{1}}{e^{2x}}\n",
    "\\end{eqnarray}"
   ]
  },
  {
   "cell_type": "code",
   "execution_count": null,
   "id": "31d84c90",
   "metadata": {},
   "outputs": [],
   "source": []
  }
 ],
 "metadata": {
  "kernelspec": {
   "display_name": "Python 3 (ipykernel)",
   "language": "python",
   "name": "python3"
  },
  "language_info": {
   "codemirror_mode": {
    "name": "ipython",
    "version": 3
   },
   "file_extension": ".py",
   "mimetype": "text/x-python",
   "name": "python",
   "nbconvert_exporter": "python",
   "pygments_lexer": "ipython3",
   "version": "3.8.12"
  }
 },
 "nbformat": 4,
 "nbformat_minor": 5
}

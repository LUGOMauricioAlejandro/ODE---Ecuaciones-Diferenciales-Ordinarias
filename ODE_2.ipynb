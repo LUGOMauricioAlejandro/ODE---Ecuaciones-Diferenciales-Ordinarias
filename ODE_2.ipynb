{
 "cells": [
  {
   "cell_type": "markdown",
   "id": "fde44eff",
   "metadata": {},
   "source": [
    "\n",
    "## Resolver la siguiente ecuación diferencial considerando la condición de Cauchy\n",
    "\n",
    "\\begin{eqnarray*}\n",
    " \\left\\{ \\begin{array}{lcc}\n",
    "             \\dot{y} = -2 \\cdot y + 1   \\\\\n",
    "             \\\\ y(0) = \\frac{5}{2}\n",
    "             \\end{array}\n",
    "   \\right.\n",
    "\\end{eqnarray*}"
   ]
  },
  {
   "cell_type": "code",
   "execution_count": 1,
   "id": "353d5b6f",
   "metadata": {},
   "outputs": [],
   "source": [
    "# Ecuaciuones diferenciales \n",
    "\n",
    "import matplotlib.pyplot as plt  #Graficos\n",
    "import numpy as np  # módulo para manejar comandos array\n",
    "import sympy    \n",
    "from scipy import integrate #Paquete de integración"
   ]
  },
  {
   "cell_type": "code",
   "execution_count": 22,
   "id": "745ead47",
   "metadata": {},
   "outputs": [
    {
     "name": "stdout",
     "output_type": "stream",
     "text": [
      "Solución General de la ODE:\n"
     ]
    },
    {
     "data": {
      "text/latex": [
       "$\\displaystyle y{\\left(x \\right)} = C_{1} e^{- 2 x} + \\frac{1}{2}$"
      ],
      "text/plain": [
       "Eq(y(x), C1*exp(-2*x) + 1/2)"
      ]
     },
     "execution_count": 22,
     "metadata": {},
     "output_type": "execute_result"
    }
   ],
   "source": [
    "#Definición de la ecuación \n",
    "\n",
    "x = sympy.Symbol('x')\n",
    "y = sympy.Function('y')\n",
    "\n",
    "\n",
    "Eq = - 2 * y(x) + 1\n",
    "\n",
    "#PVI -----> Cauchy\n",
    "ics = {y(0): 2.5 }\n",
    "\n",
    "#Cálculo de la solución particular\n",
    "\n",
    "sol_ode = sympy.dsolve(y(x).diff(x) - Eq)\n",
    "print('Solución General de la ODE:')\n",
    "sol_ode"
   ]
  },
  {
   "cell_type": "markdown",
   "id": "9b846428",
   "metadata": {},
   "source": [
    "### Aplicando las condiciones Iniciales o de Cauchy, se tiene:\n"
   ]
  },
  {
   "cell_type": "code",
   "execution_count": 23,
   "id": "74bc73b9",
   "metadata": {},
   "outputs": [
    {
     "data": {
      "text/latex": [
       "$\\displaystyle 2.5 = C_{1} + \\frac{1}{2}$"
      ],
      "text/plain": [
       "Eq(2.5, C1 + 1/2)"
      ]
     },
     "execution_count": 23,
     "metadata": {},
     "output_type": "execute_result"
    }
   ],
   "source": [
    "Part_E = sympy.Eq(sol_ode.lhs.subs(x,0).subs(ics), sol_ode.rhs.subs(x,0))\n",
    "Part_E"
   ]
  },
  {
   "cell_type": "markdown",
   "id": "e1e1f662",
   "metadata": {},
   "source": [
    "### Resolviendo PVI "
   ]
  },
  {
   "cell_type": "code",
   "execution_count": 24,
   "id": "6c14469d",
   "metadata": {},
   "outputs": [
    {
     "data": {
      "text/plain": [
       "[2.00000000000000]"
      ]
     },
     "execution_count": 24,
     "metadata": {},
     "output_type": "execute_result"
    }
   ],
   "source": [
    "sympy.solve(Part_E)"
   ]
  },
  {
   "cell_type": "markdown",
   "id": "ff3beaa6",
   "metadata": {},
   "source": [
    "Por lo tanto el valor de $C_{1} = 2$ de este modo la solución particular para nuestro problema de valor inicial es:\n",
    "\n",
    "$$ \\mathbf{ y(x) = 2 e^{-2x} + \\dfrac{1}{2}} $$"
   ]
  },
  {
   "cell_type": "code",
   "execution_count": null,
   "id": "1287daae",
   "metadata": {},
   "outputs": [],
   "source": []
  }
 ],
 "metadata": {
  "kernelspec": {
   "display_name": "Python 3 (ipykernel)",
   "language": "python",
   "name": "python3"
  },
  "language_info": {
   "codemirror_mode": {
    "name": "ipython",
    "version": 3
   },
   "file_extension": ".py",
   "mimetype": "text/x-python",
   "name": "python",
   "nbconvert_exporter": "python",
   "pygments_lexer": "ipython3",
   "version": "3.8.12"
  }
 },
 "nbformat": 4,
 "nbformat_minor": 5
}

{
 "cells": [
  {
   "cell_type": "markdown",
   "id": "9174e5ee",
   "metadata": {},
   "source": [
    "## Modelo Neuronal Fitzhugh-Nagumo\n"
   ]
  },
  {
   "cell_type": "markdown",
   "id": "0311d191",
   "metadata": {},
   "source": [
    "#### El presente desarrollo describe parte de las caracterizaciones del modelo neuronal Integrate and Fire, siendo este modelo una aproximación más exacta del comportamiento neuronal y las interaciones entre sodio $Na+$ y potasio $K+$, con sus respectivos diferenciales de potencial (nano-escala).\n",
    "#### El siguiente desarrollo se planteó a partir de un problema del libro, \"NONLINEAR DYNAMICS AND CHAOS\" de Steven H. Strogatz -- sección 7.5 --- problema 7.5.6 ---  tópico d).\n",
    "#### También se utilizó los resultados presentados por el Dr Francisco Tamarit de la Facultad de Matemática, Astronomía, Física y Computación (Universidad Nacional de Córdoba) dictado en el curso de redes neuronales 2021]"
   ]
  },
  {
   "cell_type": "code",
   "execution_count": 58,
   "id": "a7cd27bc",
   "metadata": {},
   "outputs": [],
   "source": [
    "#### LIBRERIA A CARGO DEL LECTOR #####"
   ]
  },
  {
   "cell_type": "markdown",
   "id": "ec71e869",
   "metadata": {},
   "source": [
    "## Definiendo el sistema de ecuaciones diferenciales que modela el impulso neuronal"
   ]
  },
  {
   "cell_type": "markdown",
   "id": "e29934e2",
   "metadata": {},
   "source": [
    "\n",
    "\\begin{equation}\n",
    "\\begin{cases}\n",
    "\\frac{du}{dt} = u - u^3 - v + I_\\text{e}(t)\\\\\n",
    "\\tau \\frac{dv}{dt} = u - \\theta - \\beta v \n",
    "\\end{cases}\n",
    "\\end{equation}\n",
    "\n",
    "Donde $\\theta$ y $\\beta$ son los parámetros exitatorios e inhibitorios del modelo. En definitiva, configuran ámbos el diferencial de potencial. Expresando el sistema de la siguiente manera:\n",
    "\n",
    "\\begin{eqnarray*}\n",
    " \\begin{pmatrix}\n",
    " \\dot{u} \\\\\n",
    " \\dot{v}\n",
    " \\end{pmatrix}\n",
    " & = &\n",
    " \\begin{pmatrix}\n",
    " m(u,v) \\\\\n",
    " n(u,v)\n",
    " \\end{pmatrix}\n",
    " & = &\n",
    " \\begin{pmatrix}\n",
    " u - u^3 - v + I_\\text{e}(t) \\\\\n",
    " u - \\theta - \\beta v\n",
    " \\end{pmatrix}\n",
    "\\end{eqnarray*}"
   ]
  },
  {
   "cell_type": "code",
   "execution_count": 59,
   "id": "9a7a672d",
   "metadata": {},
   "outputs": [],
   "source": [
    "#Definiendo el sistema de la ODE:\n",
    "\n",
    "def H_F(x,t,theta=0.0, beta=0.0, cte=0.5, P=0.02):\n",
    "    return np.array([cte*(x[0]+ x[1]- x[0]**3/3 + P),-1/cte*(x[0]- theta + beta*x[1])]) #modelo neuronal "
   ]
  },
  {
   "cell_type": "markdown",
   "id": "17aa7e28",
   "metadata": {},
   "source": [
    "### Utilizando el método numérico de Runge-Kutta de 4° Orden para aproximar la solución"
   ]
  },
  {
   "cell_type": "code",
   "execution_count": 60,
   "id": "e0fb9471",
   "metadata": {},
   "outputs": [],
   "source": [
    "def RK_4(t0 = 0, x0 = np.array([0.]), t1 = 15, dt = 0.01, ng = 0): #parámetros del mdelo neuronal\n",
    "    tsp = np.arange(t0, t1, dt) \n",
    "    Nsize = np.size(tsp)\n",
    "    X = np.empty((Nsize, np.size(x0)))\n",
    "    X[0] = x0\n",
    "    \n",
    "    for i in range(1, Nsize):  #RK_4 integrador para obtener la aproximación numérica\n",
    "        k1 = ng(X[i-1],tsp[i-1])\n",
    "        k2 = ng(X[i-1] + dt/2*k1, tsp[i-1] + dt/2)\n",
    "        k3 = ng(X[i-1] + dt/2*k2, tsp[i-1] + dt/2)\n",
    "        k4 = ng(X[i-1] + dt*k3, tsp[i-1] + dt)\n",
    "        X[i] = X[i-1] + dt/6*(k1 + 2*k2 + 2*k3 + k4)\n",
    "    print(X[i]) # imprime el valor de salida del integrador \n",
    "    return X\n"
   ]
  },
  {
   "cell_type": "code",
   "execution_count": 62,
   "id": "443b9cd9",
   "metadata": {},
   "outputs": [
    {
     "name": "stdout",
     "output_type": "stream",
     "text": [
      "[-1.99646495 -0.99723948]\n"
     ]
    },
    {
     "data": {
      "image/png": "[encoded data removed]",
      "text/plain": [
       "<Figure size 432x288 with 1 Axes>"
      ]
     },
     "metadata": {
      "needs_background": "light"
     },
     "output_type": "display_data"
    },
    {
     "name": "stdout",
     "output_type": "stream",
     "text": [
      "None\n"
     ]
    }
   ],
   "source": [
    "def do_plot():\n",
    "    pylab.figure()\n",
    "    X = RK_4(x0 = np.array([0.01,0.01]), t1 = 100,dt = 0.2, ng = H_F)  #punto de partida del modelo F_H para RK_4\n",
    "    pylab.plot(X[:,0], X[:,1])  #Punto de inicio del gráfico \n",
    "    pylab.title(label = r\" $\\theta$=0.0, $\\beta$=0.0, $cte$=0.5 y paso $P$=0.02\") #Etiqueta del parámetro \n",
    "    pylab.show()  #Grfica\n",
    "    \n",
    "    return\n",
    "\n",
    "print(do_plot())"
   ]
  },
  {
   "cell_type": "markdown",
   "id": "2be9e0d0",
   "metadata": {},
   "source": [
    "### Conclusión: En el caso del modelo neuronal FitzHugh-Nagumo, el retrato de fase, al analizar la variación de los parámetros $\\theta$ , $\\beta$ y $cte$ se tienen que si los  dos primeros son nulos el sistema tiende al equilibrio rápidamente; en cambio al tener estos coeficientes del modelo descripto con valores constantes positivos el sistema se vuelve caótico"
   ]
  },
  {
   "cell_type": "code",
   "execution_count": null,
   "id": "b21e2cfa",
   "metadata": {},
   "outputs": [],
   "source": []
  }
 ],
 "metadata": {
  "kernelspec": {
   "display_name": "Python 3 (ipykernel)",
   "language": "python",
   "name": "python3"
  },
  "language_info": {
   "codemirror_mode": {
    "name": "ipython",
    "version": 3
   },
   "file_extension": ".py",
   "mimetype": "text/x-python",
   "name": "python",
   "nbconvert_exporter": "python",
   "pygments_lexer": "ipython3",
   "version": "3.8.12"
  }
 },
 "nbformat": 4,
 "nbformat_minor": 5
}
